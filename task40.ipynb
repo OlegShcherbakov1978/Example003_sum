{
  "nbformat": 4,
  "nbformat_minor": 0,
  "metadata": {
    "colab": {
      "provenance": [],
      "authorship_tag": "ABX9TyPt8ui9lMQVZUbcyVU3jZdG",
      "include_colab_link": true
    },
    "kernelspec": {
      "name": "python3",
      "display_name": "Python 3"
    },
    "language_info": {
      "name": "python"
    }
  },
  "cells": [
    {
      "cell_type": "markdown",
      "metadata": {
        "id": "view-in-github",
        "colab_type": "text"
      },
      "source": [
        "<a href=\"https://colab.research.google.com/github/OlegShcherbakov1978/Example003_sum/blob/main/task40.ipynb\" target=\"_parent\"><img src=\"https://colab.research.google.com/assets/colab-badge.svg\" alt=\"Open In Colab\"/></a>"
      ]
    },
    {
      "cell_type": "code",
      "source": [
        "import pandas as pd\n",
        "\n",
        "df = pd.read_csv('/content/sample_data/california_housing_train.csv')\n",
        "filtered_df = df[(df['median_house_value'] == df['median_house_value'].mean()) & (df['population'] < 500)]\n",
        "print(filtered_df)\n"
      ],
      "metadata": {
        "id": "IiBHNnRTMgtC"
      },
      "execution_count": null,
      "outputs": []
    }
  ]
}