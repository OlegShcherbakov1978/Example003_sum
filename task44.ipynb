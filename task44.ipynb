{
  "nbformat": 4,
  "nbformat_minor": 0,
  "metadata": {
    "colab": {
      "provenance": [],
      "authorship_tag": "ABX9TyOSweqRrj/oM8nHKHPPkydb",
      "include_colab_link": true
    },
    "kernelspec": {
      "name": "python3",
      "display_name": "Python 3"
    },
    "language_info": {
      "name": "python"
    }
  },
  "cells": [
    {
      "cell_type": "markdown",
      "metadata": {
        "id": "view-in-github",
        "colab_type": "text"
      },
      "source": [
        "<a href=\"https://colab.research.google.com/github/OlegShcherbakov1978/Example003_sum/blob/main/task44.ipynb\" target=\"_parent\"><img src=\"https://colab.research.google.com/assets/colab-badge.svg\" alt=\"Open In Colab\"/></a>"
      ]
    },
    {
      "cell_type": "code",
      "execution_count": 2,
      "metadata": {
        "colab": {
          "base_uri": "https://localhost:8080/"
        },
        "id": "yDkffsAEz9Rc",
        "outputId": "f2c5f641-9715-4ad8-c1b2-770beae869da"
      },
      "outputs": [
        {
          "output_type": "stream",
          "name": "stdout",
          "text": [
            "   robot  human\n",
            "0    1.0    NaN\n",
            "1    NaN    1.0\n",
            "2    1.0    NaN\n",
            "3    1.0    NaN\n",
            "4    1.0    NaN\n"
          ]
        }
      ],
      "source": [
        "import pandas as pd\n",
        "import random\n",
        "\n",
        "lst = ['robot'] * 10\n",
        "lst += ['human'] * 10\n",
        "random.shuffle(lst)\n",
        "\n",
        "data = pd.DataFrame({'whoAmI': lst})\n",
        "one_hot = pd.DataFrame()\n",
        "\n",
        "unique_vals = data['whoAmI'].unique()\n",
        "\n",
        "for val in unique_vals:\n",
        "    one_hot[val] = 0\n",
        "\n",
        "for i in range(len(data)):\n",
        "    val = data.loc[i, 'whoAmI']\n",
        "    one_hot.loc[i, val] = 1\n",
        "\n",
        "print(one_hot.head())\n"
      ]
    }
  ]
}